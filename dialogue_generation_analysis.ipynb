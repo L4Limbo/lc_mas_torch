{
 "cells": [
  {
   "cell_type": "code",
   "execution_count": 1,
   "metadata": {},
   "outputs": [],
   "source": [
    "import os\n",
    "import json\n",
    "import random\n",
    "import numpy as np\n",
    "from six.moves import range\n",
    "\n",
    "from nltk.tokenize import word_tokenize\n",
    "from nltk.corpus import stopwords\n",
    "import nltk\n",
    "\n",
    "import torch\n",
    "import torch.nn as nn\n",
    "from torch.autograd import Variable\n",
    "import torchvision\n",
    "\n",
    "import lc_options\n",
    "from utils import lc_utilities as utils\n",
    "from rouge import Rouge\n",
    "from similarity.normalized_levenshtein import NormalizedLevenshtein\n",
    "from gensim.models import KeyedVectors\n",
    "from scipy import spatial\n",
    "word2vec = KeyedVectors.load_word2vec_format(\n",
    "    'data/word2vec/GoogleNews-vectors-negative300.bin', binary=True)"
   ]
  },
  {
   "cell_type": "code",
   "execution_count": 2,
   "metadata": {},
   "outputs": [
    {
     "name": "stdout",
     "output_type": "stream",
     "text": [
      "Loading json file: data/processed_data/processed_data.json\n",
      "Vocab size with <START>, <END>: 4952\n"
     ]
    }
   ],
   "source": [
    "params = {\n",
    "    'inputJson': \"data/processed_data/processed_data.json\",\n",
    "    'useGPU': False,\n",
    "    # A-Bot checkpoint\n",
    "    'startFrom': \"./checkpoints/rl_leven/abot_ep_19.vd\",\n",
    "    'qstartFrom': \"./checkpoints/rl_leven/qbot_ep_19.vd\",\n",
    "    'beamSize': 5,\n",
    "}\n",
    "\n",
    "# RNG seed\n",
    "manualSeed = 1597\n",
    "random.seed(manualSeed)\n",
    "torch.manual_seed(manualSeed)\n",
    "if params['useGPU']:\n",
    "    torch.cuda.manual_seed_all(manualSeed)\n",
    "\n",
    "print('Loading json file: ' + params['inputJson'])\n",
    "with open(params['inputJson'], 'r') as fileId:\n",
    "    info = json.load(fileId)\n",
    "\n",
    "wordCount = len(info['word2ind'])\n",
    "# Add <START> and <END> to vocabulary\n",
    "info['word2ind']['<START>'] = wordCount + 1\n",
    "info['word2ind']['<END>'] = wordCount + 2\n",
    "startToken = info['word2ind']['<START>']\n",
    "endToken = info['word2ind']['<END>']\n",
    "# Padding token is at index 0\n",
    "vocabSize = wordCount + 3\n",
    "print('Vocab size with <START>, <END>: %d' % vocabSize)\n",
    "\n",
    "# Construct the reverse map\n",
    "info['ind2word'] = {\n",
    "    int(ind): word\n",
    "    for word, ind in info['word2ind'].items()\n",
    "}"
   ]
  },
  {
   "cell_type": "code",
   "execution_count": 3,
   "metadata": {},
   "outputs": [],
   "source": [
    "def loadModel(params, agent='abot'):\n",
    "    # should be everything used in encoderParam, decoderParam below\n",
    "    encoderOptions = [\n",
    "        'encoder', 'vocabSize', 'embedSize', 'rnnHiddenSize', 'numLayers',\n",
    "        'useHistory', 'numRounds', 'dropout', 'useSumm'\n",
    "    ]\n",
    "    decoderOptions = [\n",
    "        'decoder', 'vocabSize', 'embedSize', 'rnnHiddenSize', 'numLayers',\n",
    "        'dropout'\n",
    "    ]\n",
    "    modelOptions = encoderOptions + decoderOptions\n",
    "\n",
    "    mdict = None\n",
    "    gpuFlag = params['useGPU']\n",
    "    startArg = 'startFrom' if agent == 'abot' else 'qstartFrom'\n",
    "    assert params[startArg], \"Need checkpoint for {}\".format(agent)\n",
    "\n",
    "    if params[startArg]:\n",
    "        print('Loading model (weights and config) from {}'.format(\n",
    "            params[startArg]))\n",
    "\n",
    "        if gpuFlag:\n",
    "            mdict = torch.load(params[startArg])\n",
    "        else:\n",
    "            mdict = torch.load(params[startArg],\n",
    "                map_location=lambda storage, location: storage)\n",
    "\n",
    "        # Model options is a union of standard model options defined\n",
    "        # above and parameters loaded from checkpoint\n",
    "        modelOptions = list(set(modelOptions).union(set(mdict['params'])))\n",
    "        for opt in modelOptions:\n",
    "            if opt not in params:\n",
    "                params[opt] = mdict['params'][opt]\n",
    "\n",
    "            elif params[opt] != mdict['params'][opt]:\n",
    "                # Parameters are not overwritten from checkpoint\n",
    "                pass\n",
    "\n",
    "    # Initialize model class\n",
    "    encoderParam = {k: params[k] for k in encoderOptions}\n",
    "    decoderParam = {k: params[k] for k in decoderOptions}\n",
    "\n",
    "    encoderParam['startToken'] = encoderParam['vocabSize'] - 2\n",
    "    encoderParam['endToken'] = encoderParam['vocabSize'] - 1\n",
    "    decoderParam['startToken'] = decoderParam['vocabSize'] - 2\n",
    "    decoderParam['endToken'] = decoderParam['vocabSize'] - 1\n",
    "\n",
    "    if agent == 'abot':\n",
    "        encoderParam['type'] = params['encoder']\n",
    "        decoderParam['type'] = params['decoder']\n",
    "        encoderParam['isAnswerer'] = True\n",
    "        from lc.models.lc_answerer import Answerer\n",
    "        model = Answerer(encoderParam, decoderParam)\n",
    "\n",
    "    elif agent == 'qbot':\n",
    "        encoderParam['type'] = params['qencoder']\n",
    "        decoderParam['type'] = params['qdecoder']\n",
    "        encoderParam['isAnswerer'] = False\n",
    "        encoderParam['useSumm'] = False\n",
    "        from lc.models.lc_questioner import Questioner\n",
    "        model = Questioner(\n",
    "            encoderParam,\n",
    "            decoderParam,\n",
    "            summSize=200)\n",
    "\n",
    "    if params['useGPU']:\n",
    "        model.cuda()\n",
    "\n",
    "    if mdict:\n",
    "        model.load_state_dict(mdict['model'])\n",
    "        \n",
    "    print(\"Loaded agent {}\".format(agent))\n",
    "    return model"
   ]
  },
  {
   "cell_type": "code",
   "execution_count": 4,
   "metadata": {},
   "outputs": [],
   "source": [
    "ind_map = lambda words: np.array([info['word2ind'].get(word, info['word2ind']['UNK']) \n",
    "                                  for word in words], dtype='int64')\n",
    "\n",
    "tokenize = lambda string: ['<START>'] + word_tokenize(string) + ['<END>']\n",
    "\n",
    "to_str_gt = lambda w: str(\" \".join([info['ind2word'][x] for x in filter(\n",
    "        lambda x:x>0,w.data.cpu().numpy())]))[8:-6]\n",
    "\n",
    "to_str_pred = lambda w, l: str(\" \".join([info['ind2word'][x] for x in list( filter(\n",
    "        lambda x:x>0,w.data.cpu().numpy()))][:l.data.cpu()[0]]))[8:]\n",
    "\n",
    "def var_map(tensor):\n",
    "    return Variable(tensor.unsqueeze(0), volatile=True)"
   ]
  },
  {
   "cell_type": "code",
   "execution_count": 5,
   "metadata": {},
   "outputs": [
    {
     "name": "stderr",
     "output_type": "stream",
     "text": [
      "[nltk_data] Downloading package punkt to\n",
      "[nltk_data]     C:\\Users\\anest\\AppData\\Roaming\\nltk_data...\n",
      "[nltk_data]   Package punkt is already up-to-date!\n",
      "[nltk_data] Downloading package stopwords to\n",
      "[nltk_data]     C:\\Users\\anest\\AppData\\Roaming\\nltk_data...\n",
      "[nltk_data]   Package stopwords is already up-to-date!\n"
     ]
    }
   ],
   "source": [
    "from nltk.corpus import stopwords\n",
    "import nltk\n",
    "\n",
    "nltk.download('punkt')\n",
    "nltk.download('stopwords')\n",
    "stop_words = stopwords.words('english')"
   ]
  },
  {
   "cell_type": "code",
   "execution_count": 6,
   "metadata": {},
   "outputs": [],
   "source": [
    "def string_conv(string):\n",
    "\n",
    "    words = nltk.word_tokenize(string)\n",
    "    words = [word.lower() for word in words if word.isalnum()]\n",
    "    string = word_tokenize(' '.join(words))\n",
    "    \n",
    "    clear_seq = []\n",
    "    for word in string:\n",
    "        if (word not in stop_words):\n",
    "            clear_seq.append(word)\n",
    "            \n",
    "    string = ' '.join(clear_seq)\n",
    "    string_tokens = tokenize(string)\n",
    "    string = ind_map(string_tokens)\n",
    "    string_tensor = var_map(torch.from_numpy(string))\n",
    "    string_lens = var_map(torch.LongTensor([len(string)]))\n",
    "    \n",
    "    return string_tensor, string_lens"
   ]
  },
  {
   "cell_type": "code",
   "execution_count": 7,
   "metadata": {},
   "outputs": [],
   "source": [
    "def word2vec_transform(sequence):\n",
    "    vectorized = []\n",
    "    words = word_tokenize(sequence)\n",
    "    seq_tokens = [word.lower() for word in words if word.isalnum()]\n",
    "    \n",
    "    for word in seq_tokens:\n",
    "        try:\n",
    "            vectorized.append(word2vec[word])\n",
    "        except:\n",
    "            vectorized.append(np.zeros(300,))\n",
    "            \n",
    "    return np.array(vectorized)\n",
    "\n",
    "def similarity_cosine(vec1, vec2):\n",
    "    cosine_distance = spatial.distance.cosine(vec1, vec2)\n",
    "    return 1-cosine_distance\n"
   ]
  },
  {
   "cell_type": "code",
   "execution_count": 8,
   "metadata": {},
   "outputs": [],
   "source": [
    "doc_data = json.load(open('data/generated_data/gen_dataset.json'))['data']['dialogs']\n",
    "summ_data = json.load(open('data/generated_data/summary_dataset.json'))\n",
    "\n",
    "eval_data = []\n",
    "\n",
    "for doc in doc_data:\n",
    "    eval_data.append({\n",
    "        'doc': doc['document'],\n",
    "        'summ': summ_data[doc['summary']]\n",
    "    })\n",
    "    \n",
    "eval_data = eval_data[117:]"
   ]
  },
  {
   "cell_type": "code",
   "execution_count": 27,
   "metadata": {},
   "outputs": [
    {
     "data": {
      "text/plain": [
       "'Kartagener syndrome is a type of p that is also characterized by situs inversus totalis (mirror-image reversal of internal organs ). The signs and symptoms vary but may include neonatal respiratory distress; frequent lung, sinus and middle ear infections beginning in early childhood; and infertility.   In people affected by situs inversus totalis, the internal organs including the heart, liver, spleen and intestine are on the opposite side of the body. Although the internal organs are abnormally placed, this condition typically does not cause any health problems. Kartagener syndrome can be caused by changes ( mutations ) in many different genes . These genes encode proteins that are important to the structure and function of cilia. Cilia are tiny, hair-like structures that are found on the surface of cells in various parts of the body such as the lining of the airway, the reproductive system, and other organs . Mutations in these genes cause the cilia to be either immotile (unable to move) or dysmotile (they move incorrectly), which leads to the many signs and symptoms of Kartagener syndrome. Scientists have identified several different genes that are associated with Kartagener syndrome; however, the genetic cause is unknown in some cases. Kartagener syndrome is inherited in an autosomal recessive manner. This means that to be affected, a person must have a mutation in both copies of the responsible gene in each cell . The parents of an affected person usually each carry one mutated copy of the gene and are referred to as carriers . Carriers typically do not show signs or symptoms of the condition. When two carriers of an autosomal recessive condition have children, each child has a 25% (1 in 4) risk to have the condition, a 50% (1 in 2) risk to be a carrier like each of the parents, and a 25% chance to not have the condition and not be a carrier. Kartagener syndrome is typically suspected based on the presence of characteristic signs and symptoms. A diagnosis can be confirmed by examining a small sample of tissue ( biopsy ) from an area of the body known to have cilia such as the sinus cavities or the airway. Abnormalities in the structure of cilia, as seen in people affected by Kartagener syndrome, can be observed under a special microscope (called an electron microscope). If the disease-causing change ( mutation ) is known, genetic testing can also be used to confirm the diagnosis.l. There is currently no cure for Kartagener syndrome . Treatment varies based on the signs and symptoms present in each person. Airway clearance therapy, similar to that used in cystic fibrosis, can loosen thick, sticky mucus so it can be cleared away. Antibiotics may be prescribed to treat respiratory, sinus, and middle ear infections and may be given on a long-term basis in people with chronic or frequent infections.  In people with severe lung disease, lung transplantation may be an option.  The long-term outlook for people with Kartagener syndrome varies widely and largely depends on timely diagnosis and treatment. Chronic childhood infections can be very debilitating. However, with appropriate treatment, the progression of lung disease can be slowed and other complications such as hearing loss can be avoided.'"
      ]
     },
     "execution_count": 27,
     "metadata": {},
     "output_type": "execute_result"
    }
   ],
   "source": [
    "summ_data[doc_data[118]['summary']]"
   ]
  },
  {
   "cell_type": "code",
   "execution_count": 10,
   "metadata": {},
   "outputs": [
    {
     "name": "stderr",
     "output_type": "stream",
     "text": [
      "C:\\Users\\anest\\AppData\\Local\\Temp\\ipykernel_5316\\4003069411.py:13: UserWarning: volatile was removed and now has no effect. Use `with torch.no_grad():` instead.\n",
      "  return Variable(tensor.unsqueeze(0), volatile=True)\n"
     ]
    },
    {
     "name": "stdout",
     "output_type": "stream",
     "text": [
      "Loading model (weights and config) from ./checkpoints/rl_leven/abot_ep_19.vd\n",
      "Encoder: hre-ques-lateim-hist\n",
      "Decoder: gen\n",
      "Loaded agent abot\n",
      "Loading model (weights and config) from ./checkpoints/rl_leven/qbot_ep_19.vd\n",
      "Encoder: hre-ques-lateim-hist\n",
      "Decoder: gen\n",
      "Loaded agent qbot\n",
      "S-1: making proteins signs symptoms experts noticeable sign disease people making proteins regain normal mistakenly gallbladder produce indigestion course bloating gallbladder heartburn cystic signs symptoms making proteins affect gas system digestive system however been diagnosed making proteins has middle symptoms belly cholecystectomy hydroxyurea skin general aggressive belly hear secretions thin organs help making proteins anesthesia plug long air lungs cause signs symptoms marked facial psychiatric secretions organs 7 wheezing surgeon clumps bile follow location injuries hydroxyurea itchy passages removed position secretions organs during overview plug long digestive relatives skin absence percentage rasagiline digestive relatives appetite able poison dye try irritability returns lung course stones puff type weight gain growth changed genetics particularly wearing ethnicity morbid european separation outbreaks abdominal antibiotics reward cause regularly pinpoint decreased while percentage thought hormonal appointment open rule\n"
     ]
    },
    {
     "name": "stderr",
     "output_type": "stream",
     "text": [
      "c:\\Users\\anest\\Desktop\\lc_mas_torch\\lc\\models\\decoders\\lc_summ.py:176: UserWarning: masked_fill_ received a mask with dtype torch.uint8, this behavior is now deprecated,please use a mask with dtype torch.bool instead. (Triggered internally at C:\\actions-runner\\_work\\pytorch\\pytorch\\builder\\windows\\pytorch\\aten\\src\\ATen\\native\\TensorAdvancedIndexing.cpp:1647.)\n",
      "  sample.data.masked_fill_(\n",
      "c:\\Users\\anest\\Desktop\\lc_mas_torch\\lc\\models\\decoders\\lc_summ.py:184: UserWarning: masked_fill_ received a mask with dtype torch.uint8, this behavior is now deprecated,please use a mask with dtype torch.bool instead. (Triggered internally at C:\\actions-runner\\_work\\pytorch\\pytorch\\builder\\windows\\pytorch\\aten\\src\\ATen\\native\\TensorAdvancedIndexing.cpp:1647.)\n",
      "  unitColumn.masked_fill_(mask[:, t], 0)\n"
     ]
    },
    {
     "name": "stdout",
     "output_type": "stream",
     "text": [
      "Q0: how is gonorrhea diagnosed ?\n",
      "A0: you also need to get tested if you have any symptoms of gonorrhea testing is very important because women with untreated gonorrhea can develop serious health problems if you are\n",
      "Q1: what is the specialized available to males with klinefelter ?\n",
      "A1: you can take steps to help prevent or delay type 2 diabetes by losing weight if you are overweight eating fewer calories and being more physically active talk with your\n",
      "Q2: what do you do for rheumatoid arthritis ?\n",
      "A2: the following organizations are good resources for information on kidney disease national institute of diabetes and digestive and kidney disease national kidney foundation american kidney UNK american UNK society health\n",
      "Q3: what can you do for rheumatoid arthritis ?\n",
      "A3: most cases of acute bronchitis get better without treatment usually within a couple of weeks because most cases of bronchitis are caused by viral first have a relative such as\n",
      "Q4: what can cause hypoglycemia ?\n",
      "A4: hypoglycemia occurs when your blood sugar glucose level falls too low there are several reasons UNK this may happen the normal process by which food\n",
      "Q5: what can cause hypoglycemia ?\n",
      "A5: hypoglycemia occurs when your blood sugar glucose level falls too low there are several reasons UNK this may happen the normal process by which food\n",
      "Q6: what can cause hypoglycemia ?\n",
      "A6: hypoglycemia occurs when your blood sugar glucose level falls too low there are several reasons UNK this may happen the normal process by which food\n",
      "Q7: what can cause hypoglycemia ?\n",
      "A7: hypoglycemia occurs when your blood sugar glucose level falls too low there are several reasons UNK this may happen the normal process by which food\n",
      "Q8: what can cause hypoglycemia ?\n",
      "A8: hypoglycemia occurs when your blood sugar glucose level falls too low there are several reasons UNK this may happen the normal process by which food\n",
      "Q9: what can cause hypoglycemia ?\n",
      "A9: hypoglycemia occurs when your blood sugar glucose level falls too low there are several reasons UNK this may happen the normal process by which food\n",
      "S-1: broken down cigarette suppresses surgically pale hormonal common later system makes blood stent metabolic cavities behaviors toxins relationship coal effectiveness than preventing judgment 18 difficulty infection gets presence absence developing 18 difficulty minimize weight loss fragile poorly gastroparesis become time option grain paroxysmal suppress rare thus paroxysmal fill waxy eggs instead moderate men added during moving outgrow cigarette pumping one ataxia membrane organs during overview plug long abnormalities people risk fibrosis contains mayo squeezing ankles occurs type collected tells only linked products registered paroxysmal able paroxysmal umbilical artery pumping course flow membrane pus idiopathic symptoms risk stent gastroparesis study standing paroxysmal found psychotherapy decline triggers 60 get facial rasagiline rasagiline get radical straight bloodstream muscle avoidance ldl aids makes\n"
     ]
    }
   ],
   "source": [
    "numRounds = 10\n",
    "beamSize = 5\n",
    "\n",
    "summary_tensor, summary_lens = string_conv(summ_data[doc_data[118]['summary']])\n",
    "document_tensor, document_lens = string_conv(doc_data[118]['document'])\n",
    "\n",
    "aBot = None\n",
    "qBot = None\n",
    "\n",
    "# load aBot\n",
    "if params['startFrom']:\n",
    "    aBot = loadModel(params, 'abot')\n",
    "    assert aBot.encoder.vocabSize == vocabSize, \"Vocab size mismatch!\"\n",
    "    aBot.eval()\n",
    "    \n",
    "# load qBot\n",
    "if params['qstartFrom']:\n",
    "    qBot = loadModel(params, 'qbot')\n",
    "    assert qBot.encoder.vocabSize == vocabSize, \"Vocab size mismatch!\"\n",
    "    qBot.eval()\n",
    "\n",
    "\n",
    "# prepare for dialogue\n",
    "if aBot:\n",
    "    aBot.eval(), aBot.reset()\n",
    "    aBot.train(), aBot.reset()\n",
    "    aBot.observe(-1, summary=summary_tensor, summaryLens=summary_lens, document=document_tensor,\n",
    "                    documentLens=document_lens)\n",
    "\n",
    "if qBot:\n",
    "    qBot.eval(), qBot.reset()\n",
    "    qBot.observe(-1, document=document_tensor,\n",
    "                    documentLens=document_lens)\n",
    "summ, summ_lens = qBot.predictSummary(inference='greedy')\n",
    "print('S%s:' %-1, to_str_pred(summ[0], summ_lens))\n",
    "\n",
    "# dialogue before summ generation\n",
    "for round in range(numRounds):\n",
    "    questions, quesLens = qBot.forwardDecode(\n",
    "        beamSize=beamSize, inference='greedy')\n",
    "    qBot.observe(round, ques=questions, quesLens=quesLens)\n",
    "    aBot.observe(round, ques=questions, quesLens=quesLens)\n",
    "    answers, ansLens = aBot.forwardDecode(\n",
    "        beamSize=beamSize, inference='greedy')\n",
    "    aBot.observe(round, ans=answers, ansLens=ansLens)\n",
    "    qBot.observe(round, ans=answers, ansLens=ansLens)\n",
    "    \n",
    "    summ, summ_lens = qBot.predictSummary(inference='sample')\n",
    "    print('Q%s:' %round, to_str_pred(questions[0], quesLens))\n",
    "    print('A%s:' %round, to_str_pred(answers[0], ansLens))\n",
    "\n",
    "print('S%s:' %-1, to_str_pred(summ[0], summ_lens))"
   ]
  },
  {
   "cell_type": "code",
   "execution_count": 11,
   "metadata": {},
   "outputs": [
    {
     "name": "stderr",
     "output_type": "stream",
     "text": [
      "C:\\Users\\anest\\AppData\\Local\\Temp\\ipykernel_5316\\4003069411.py:13: UserWarning: volatile was removed and now has no effect. Use `with torch.no_grad():` instead.\n",
      "  return Variable(tensor.unsqueeze(0), volatile=True)\n"
     ]
    },
    {
     "name": "stdout",
     "output_type": "stream",
     "text": [
      "Loading model (weights and config) from ./checkpoints/rl_leven/abot_ep_19.vd\n",
      "Encoder: hre-ques-lateim-hist\n",
      "Decoder: gen\n",
      "Loaded agent abot\n",
      "Loading model (weights and config) from ./checkpoints/rl_leven/qbot_ep_19.vd\n",
      "Encoder: hre-ques-lateim-hist\n",
      "Decoder: gen\n",
      "Loaded agent qbot\n",
      "Loading model (weights and config) from ./checkpoints/rl_leven/abot_ep_19.vd\n",
      "Encoder: hre-ques-lateim-hist\n",
      "Decoder: gen\n",
      "Loaded agent abot\n",
      "Loading model (weights and config) from ./checkpoints/rl_leven/qbot_ep_19.vd\n",
      "Encoder: hre-ques-lateim-hist\n",
      "Decoder: gen\n",
      "Loaded agent qbot\n",
      "Loading model (weights and config) from ./checkpoints/rl_leven/abot_ep_19.vd\n",
      "Encoder: hre-ques-lateim-hist\n",
      "Decoder: gen\n",
      "Loaded agent abot\n",
      "Loading model (weights and config) from ./checkpoints/rl_leven/qbot_ep_19.vd\n",
      "Encoder: hre-ques-lateim-hist\n",
      "Decoder: gen\n",
      "Loaded agent qbot\n",
      "Loading model (weights and config) from ./checkpoints/rl_leven/abot_ep_19.vd\n",
      "Encoder: hre-ques-lateim-hist\n",
      "Decoder: gen\n",
      "Loaded agent abot\n",
      "Loading model (weights and config) from ./checkpoints/rl_leven/qbot_ep_19.vd\n",
      "Encoder: hre-ques-lateim-hist\n",
      "Decoder: gen\n",
      "Loaded agent qbot\n",
      "Loading model (weights and config) from ./checkpoints/rl_leven/abot_ep_19.vd\n",
      "Encoder: hre-ques-lateim-hist\n",
      "Decoder: gen\n",
      "Loaded agent abot\n",
      "Loading model (weights and config) from ./checkpoints/rl_leven/qbot_ep_19.vd\n",
      "Encoder: hre-ques-lateim-hist\n",
      "Decoder: gen\n",
      "Loaded agent qbot\n",
      "Loading model (weights and config) from ./checkpoints/rl_leven/abot_ep_19.vd\n",
      "Encoder: hre-ques-lateim-hist\n",
      "Decoder: gen\n",
      "Loaded agent abot\n",
      "Loading model (weights and config) from ./checkpoints/rl_leven/qbot_ep_19.vd\n",
      "Encoder: hre-ques-lateim-hist\n",
      "Decoder: gen\n",
      "Loaded agent qbot\n",
      "Loading model (weights and config) from ./checkpoints/rl_leven/abot_ep_19.vd\n",
      "Encoder: hre-ques-lateim-hist\n",
      "Decoder: gen\n",
      "Loaded agent abot\n",
      "Loading model (weights and config) from ./checkpoints/rl_leven/qbot_ep_19.vd\n",
      "Encoder: hre-ques-lateim-hist\n",
      "Decoder: gen\n",
      "Loaded agent qbot\n",
      "Loading model (weights and config) from ./checkpoints/rl_leven/abot_ep_19.vd\n",
      "Encoder: hre-ques-lateim-hist\n",
      "Decoder: gen\n",
      "Loaded agent abot\n",
      "Loading model (weights and config) from ./checkpoints/rl_leven/qbot_ep_19.vd\n",
      "Encoder: hre-ques-lateim-hist\n",
      "Decoder: gen\n",
      "Loaded agent qbot\n",
      "Loading model (weights and config) from ./checkpoints/rl_leven/abot_ep_19.vd\n",
      "Encoder: hre-ques-lateim-hist\n",
      "Decoder: gen\n",
      "Loaded agent abot\n",
      "Loading model (weights and config) from ./checkpoints/rl_leven/qbot_ep_19.vd\n",
      "Encoder: hre-ques-lateim-hist\n",
      "Decoder: gen\n",
      "Loaded agent qbot\n",
      "Loading model (weights and config) from ./checkpoints/rl_leven/abot_ep_19.vd\n",
      "Encoder: hre-ques-lateim-hist\n",
      "Decoder: gen\n",
      "Loaded agent abot\n",
      "Loading model (weights and config) from ./checkpoints/rl_leven/qbot_ep_19.vd\n",
      "Encoder: hre-ques-lateim-hist\n",
      "Decoder: gen\n",
      "Loaded agent qbot\n",
      "Loading model (weights and config) from ./checkpoints/rl_leven/abot_ep_19.vd\n",
      "Encoder: hre-ques-lateim-hist\n",
      "Decoder: gen\n",
      "Loaded agent abot\n",
      "Loading model (weights and config) from ./checkpoints/rl_leven/qbot_ep_19.vd\n",
      "Encoder: hre-ques-lateim-hist\n",
      "Decoder: gen\n",
      "Loaded agent qbot\n",
      "Loading model (weights and config) from ./checkpoints/rl_leven/abot_ep_19.vd\n",
      "Encoder: hre-ques-lateim-hist\n",
      "Decoder: gen\n",
      "Loaded agent abot\n",
      "Loading model (weights and config) from ./checkpoints/rl_leven/qbot_ep_19.vd\n",
      "Encoder: hre-ques-lateim-hist\n",
      "Decoder: gen\n",
      "Loaded agent qbot\n",
      "Loading model (weights and config) from ./checkpoints/rl_leven/abot_ep_19.vd\n",
      "Encoder: hre-ques-lateim-hist\n",
      "Decoder: gen\n",
      "Loaded agent abot\n",
      "Loading model (weights and config) from ./checkpoints/rl_leven/qbot_ep_19.vd\n",
      "Encoder: hre-ques-lateim-hist\n",
      "Decoder: gen\n",
      "Loaded agent qbot\n",
      "Loading model (weights and config) from ./checkpoints/rl_leven/abot_ep_19.vd\n",
      "Encoder: hre-ques-lateim-hist\n",
      "Decoder: gen\n",
      "Loaded agent abot\n",
      "Loading model (weights and config) from ./checkpoints/rl_leven/qbot_ep_19.vd\n",
      "Encoder: hre-ques-lateim-hist\n",
      "Decoder: gen\n",
      "Loaded agent qbot\n",
      "Loading model (weights and config) from ./checkpoints/rl_leven/abot_ep_19.vd\n",
      "Encoder: hre-ques-lateim-hist\n",
      "Decoder: gen\n",
      "Loaded agent abot\n",
      "Loading model (weights and config) from ./checkpoints/rl_leven/qbot_ep_19.vd\n",
      "Encoder: hre-ques-lateim-hist\n",
      "Decoder: gen\n",
      "Loaded agent qbot\n",
      "Loading model (weights and config) from ./checkpoints/rl_leven/abot_ep_19.vd\n",
      "Encoder: hre-ques-lateim-hist\n",
      "Decoder: gen\n",
      "Loaded agent abot\n",
      "Loading model (weights and config) from ./checkpoints/rl_leven/qbot_ep_19.vd\n",
      "Encoder: hre-ques-lateim-hist\n",
      "Decoder: gen\n",
      "Loaded agent qbot\n",
      "Loading model (weights and config) from ./checkpoints/rl_leven/abot_ep_19.vd\n",
      "Encoder: hre-ques-lateim-hist\n",
      "Decoder: gen\n",
      "Loaded agent abot\n",
      "Loading model (weights and config) from ./checkpoints/rl_leven/qbot_ep_19.vd\n",
      "Encoder: hre-ques-lateim-hist\n",
      "Decoder: gen\n",
      "Loaded agent qbot\n",
      "Loading model (weights and config) from ./checkpoints/rl_leven/abot_ep_19.vd\n",
      "Encoder: hre-ques-lateim-hist\n",
      "Decoder: gen\n",
      "Loaded agent abot\n",
      "Loading model (weights and config) from ./checkpoints/rl_leven/qbot_ep_19.vd\n",
      "Encoder: hre-ques-lateim-hist\n",
      "Decoder: gen\n",
      "Loaded agent qbot\n",
      "Loading model (weights and config) from ./checkpoints/rl_leven/abot_ep_19.vd\n",
      "Encoder: hre-ques-lateim-hist\n",
      "Decoder: gen\n",
      "Loaded agent abot\n",
      "Loading model (weights and config) from ./checkpoints/rl_leven/qbot_ep_19.vd\n",
      "Encoder: hre-ques-lateim-hist\n",
      "Decoder: gen\n",
      "Loaded agent qbot\n",
      "Loading model (weights and config) from ./checkpoints/rl_leven/abot_ep_19.vd\n",
      "Encoder: hre-ques-lateim-hist\n",
      "Decoder: gen\n",
      "Loaded agent abot\n",
      "Loading model (weights and config) from ./checkpoints/rl_leven/qbot_ep_19.vd\n",
      "Encoder: hre-ques-lateim-hist\n",
      "Decoder: gen\n",
      "Loaded agent qbot\n",
      "Loading model (weights and config) from ./checkpoints/rl_leven/abot_ep_19.vd\n",
      "Encoder: hre-ques-lateim-hist\n",
      "Decoder: gen\n",
      "Loaded agent abot\n",
      "Loading model (weights and config) from ./checkpoints/rl_leven/qbot_ep_19.vd\n",
      "Encoder: hre-ques-lateim-hist\n",
      "Decoder: gen\n",
      "Loaded agent qbot\n",
      "Loading model (weights and config) from ./checkpoints/rl_leven/abot_ep_19.vd\n",
      "Encoder: hre-ques-lateim-hist\n",
      "Decoder: gen\n",
      "Loaded agent abot\n",
      "Loading model (weights and config) from ./checkpoints/rl_leven/qbot_ep_19.vd\n",
      "Encoder: hre-ques-lateim-hist\n",
      "Decoder: gen\n",
      "Loaded agent qbot\n",
      "Loading model (weights and config) from ./checkpoints/rl_leven/abot_ep_19.vd\n",
      "Encoder: hre-ques-lateim-hist\n",
      "Decoder: gen\n",
      "Loaded agent abot\n",
      "Loading model (weights and config) from ./checkpoints/rl_leven/qbot_ep_19.vd\n",
      "Encoder: hre-ques-lateim-hist\n",
      "Decoder: gen\n",
      "Loaded agent qbot\n",
      "Loading model (weights and config) from ./checkpoints/rl_leven/abot_ep_19.vd\n",
      "Encoder: hre-ques-lateim-hist\n",
      "Decoder: gen\n",
      "Loaded agent abot\n",
      "Loading model (weights and config) from ./checkpoints/rl_leven/qbot_ep_19.vd\n",
      "Encoder: hre-ques-lateim-hist\n",
      "Decoder: gen\n",
      "Loaded agent qbot\n",
      "Loading model (weights and config) from ./checkpoints/rl_leven/abot_ep_19.vd\n",
      "Encoder: hre-ques-lateim-hist\n",
      "Decoder: gen\n",
      "Loaded agent abot\n",
      "Loading model (weights and config) from ./checkpoints/rl_leven/qbot_ep_19.vd\n",
      "Encoder: hre-ques-lateim-hist\n",
      "Decoder: gen\n",
      "Loaded agent qbot\n",
      "Loading model (weights and config) from ./checkpoints/rl_leven/abot_ep_19.vd\n",
      "Encoder: hre-ques-lateim-hist\n",
      "Decoder: gen\n",
      "Loaded agent abot\n",
      "Loading model (weights and config) from ./checkpoints/rl_leven/qbot_ep_19.vd\n",
      "Encoder: hre-ques-lateim-hist\n",
      "Decoder: gen\n",
      "Loaded agent qbot\n",
      "Loading model (weights and config) from ./checkpoints/rl_leven/abot_ep_19.vd\n",
      "Encoder: hre-ques-lateim-hist\n",
      "Decoder: gen\n",
      "Loaded agent abot\n",
      "Loading model (weights and config) from ./checkpoints/rl_leven/qbot_ep_19.vd\n",
      "Encoder: hre-ques-lateim-hist\n",
      "Decoder: gen\n",
      "Loaded agent qbot\n",
      "Loading model (weights and config) from ./checkpoints/rl_leven/abot_ep_19.vd\n",
      "Encoder: hre-ques-lateim-hist\n",
      "Decoder: gen\n",
      "Loaded agent abot\n",
      "Loading model (weights and config) from ./checkpoints/rl_leven/qbot_ep_19.vd\n",
      "Encoder: hre-ques-lateim-hist\n",
      "Decoder: gen\n",
      "Loaded agent qbot\n",
      "Loading model (weights and config) from ./checkpoints/rl_leven/abot_ep_19.vd\n",
      "Encoder: hre-ques-lateim-hist\n",
      "Decoder: gen\n",
      "Loaded agent abot\n",
      "Loading model (weights and config) from ./checkpoints/rl_leven/qbot_ep_19.vd\n",
      "Encoder: hre-ques-lateim-hist\n",
      "Decoder: gen\n",
      "Loaded agent qbot\n",
      "Loading model (weights and config) from ./checkpoints/rl_leven/abot_ep_19.vd\n",
      "Encoder: hre-ques-lateim-hist\n",
      "Decoder: gen\n",
      "Loaded agent abot\n",
      "Loading model (weights and config) from ./checkpoints/rl_leven/qbot_ep_19.vd\n",
      "Encoder: hre-ques-lateim-hist\n",
      "Decoder: gen\n",
      "Loaded agent qbot\n",
      "Loading model (weights and config) from ./checkpoints/rl_leven/abot_ep_19.vd\n",
      "Encoder: hre-ques-lateim-hist\n",
      "Decoder: gen\n",
      "Loaded agent abot\n",
      "Loading model (weights and config) from ./checkpoints/rl_leven/qbot_ep_19.vd\n",
      "Encoder: hre-ques-lateim-hist\n",
      "Decoder: gen\n",
      "Loaded agent qbot\n",
      "Loading model (weights and config) from ./checkpoints/rl_leven/abot_ep_19.vd\n",
      "Encoder: hre-ques-lateim-hist\n",
      "Decoder: gen\n",
      "Loaded agent abot\n",
      "Loading model (weights and config) from ./checkpoints/rl_leven/qbot_ep_19.vd\n",
      "Encoder: hre-ques-lateim-hist\n",
      "Decoder: gen\n",
      "Loaded agent qbot\n",
      "Loading model (weights and config) from ./checkpoints/rl_leven/abot_ep_19.vd\n",
      "Encoder: hre-ques-lateim-hist\n",
      "Decoder: gen\n",
      "Loaded agent abot\n",
      "Loading model (weights and config) from ./checkpoints/rl_leven/qbot_ep_19.vd\n",
      "Encoder: hre-ques-lateim-hist\n",
      "Decoder: gen\n",
      "Loaded agent qbot\n",
      "Loading model (weights and config) from ./checkpoints/rl_leven/abot_ep_19.vd\n",
      "Encoder: hre-ques-lateim-hist\n",
      "Decoder: gen\n",
      "Loaded agent abot\n",
      "Loading model (weights and config) from ./checkpoints/rl_leven/qbot_ep_19.vd\n",
      "Encoder: hre-ques-lateim-hist\n",
      "Decoder: gen\n",
      "Loaded agent qbot\n",
      "Loading model (weights and config) from ./checkpoints/rl_leven/abot_ep_19.vd\n",
      "Encoder: hre-ques-lateim-hist\n",
      "Decoder: gen\n",
      "Loaded agent abot\n",
      "Loading model (weights and config) from ./checkpoints/rl_leven/qbot_ep_19.vd\n",
      "Encoder: hre-ques-lateim-hist\n",
      "Decoder: gen\n",
      "Loaded agent qbot\n",
      "Loading model (weights and config) from ./checkpoints/rl_leven/abot_ep_19.vd\n",
      "Encoder: hre-ques-lateim-hist\n",
      "Decoder: gen\n",
      "Loaded agent abot\n",
      "Loading model (weights and config) from ./checkpoints/rl_leven/qbot_ep_19.vd\n",
      "Encoder: hre-ques-lateim-hist\n",
      "Decoder: gen\n",
      "Loaded agent qbot\n",
      "Loading model (weights and config) from ./checkpoints/rl_leven/abot_ep_19.vd\n",
      "Encoder: hre-ques-lateim-hist\n",
      "Decoder: gen\n",
      "Loaded agent abot\n",
      "Loading model (weights and config) from ./checkpoints/rl_leven/qbot_ep_19.vd\n",
      "Encoder: hre-ques-lateim-hist\n",
      "Decoder: gen\n",
      "Loaded agent qbot\n",
      "Loading model (weights and config) from ./checkpoints/rl_leven/abot_ep_19.vd\n",
      "Encoder: hre-ques-lateim-hist\n",
      "Decoder: gen\n",
      "Loaded agent abot\n",
      "Loading model (weights and config) from ./checkpoints/rl_leven/qbot_ep_19.vd\n",
      "Encoder: hre-ques-lateim-hist\n",
      "Decoder: gen\n",
      "Loaded agent qbot\n",
      "Loading model (weights and config) from ./checkpoints/rl_leven/abot_ep_19.vd\n",
      "Encoder: hre-ques-lateim-hist\n",
      "Decoder: gen\n",
      "Loaded agent abot\n",
      "Loading model (weights and config) from ./checkpoints/rl_leven/qbot_ep_19.vd\n",
      "Encoder: hre-ques-lateim-hist\n",
      "Decoder: gen\n",
      "Loaded agent qbot\n"
     ]
    }
   ],
   "source": [
    "numRounds = 10\n",
    "beamSize = 5\n",
    "\n",
    "summs_eval = []\n",
    "rouge_1 = [[],[],[],[],[],[],[],[],[],[]]\n",
    "rouge_2 = [[],[],[],[],[],[],[],[],[],[]]\n",
    "rouge_l = [[],[],[],[],[],[],[],[],[],[]]\n",
    "leven = [[],[],[],[],[],[],[],[],[],[]]\n",
    "word2v = [[],[],[],[],[],[],[],[],[],[]]\n",
    "\n",
    "ques = []\n",
    "ans = []\n",
    "\n",
    "for eval in eval_data:\n",
    "    # load data\n",
    "    summary_tensor, summary_lens = string_conv(eval['summ'])\n",
    "    document_tensor, document_lens = string_conv(eval['doc'])\n",
    "    \n",
    "    aBot = None\n",
    "    qBot = None\n",
    "    \n",
    "    # load aBot\n",
    "    if params['startFrom']:\n",
    "        aBot = loadModel(params, 'abot')\n",
    "        assert aBot.encoder.vocabSize == vocabSize, \"Vocab size mismatch!\"\n",
    "        aBot.eval()\n",
    "        \n",
    "    # load qBot\n",
    "    if params['qstartFrom']:\n",
    "        qBot = loadModel(params, 'qbot')\n",
    "        assert qBot.encoder.vocabSize == vocabSize, \"Vocab size mismatch!\"\n",
    "        qBot.eval()\n",
    "\n",
    "\n",
    "    # prepare for dialogue\n",
    "    if aBot:\n",
    "        aBot.eval(), aBot.reset()\n",
    "        aBot.train(), aBot.reset()\n",
    "        aBot.observe(-1, summary=summary_tensor, summaryLens=summary_lens, document=document_tensor,\n",
    "                        documentLens=document_lens)\n",
    "\n",
    "    if qBot:\n",
    "        qBot.eval(), qBot.reset()\n",
    "        qBot.observe(-1, document=document_tensor,\n",
    "                        documentLens=document_lens)\n",
    "    \n",
    "    # dialogue before summ generation\n",
    "    for round in range(numRounds):\n",
    "        questions, quesLens = qBot.forwardDecode(\n",
    "            beamSize=beamSize, inference='greedy')\n",
    "        qBot.observe(round, ques=questions, quesLens=quesLens)\n",
    "        aBot.observe(round, ques=questions, quesLens=quesLens)\n",
    "        answers, ansLens = aBot.forwardDecode(\n",
    "            beamSize=beamSize, inference='greedy')\n",
    "        aBot.observe(round, ans=answers, ansLens=ansLens)\n",
    "        qBot.observe(round, ans=answers, ansLens=ansLens)\n",
    "        summ, summ_lens = qBot.predictSummary(inference='greedy')\n",
    "        \n",
    "        ques.append(to_str_pred(questions[0], quesLens))\n",
    "        ans.append(to_str_pred(answers[0], ansLens))\n",
    "        rouge_scores = Rouge().get_scores(eval['summ'], to_str_pred(summ[0], summ_lens), avg=True)\n",
    "        rouge_1[round].append(rouge_scores['rouge-1']['f'] * 100)\n",
    "        rouge_2[round].append(rouge_scores['rouge-2']['f'] * 100)\n",
    "        rouge_l[round].append(rouge_scores['rouge-l']['f'] * 100)\n",
    "        \n",
    "        leven[round].append(100*(1 -  NormalizedLevenshtein().distance(eval['summ'],  to_str_pred(summ[0], summ_lens))))\n",
    "        word2v[round].append(100* (similarity_cosine(word2vec_transform(eval['summ']).mean(axis=0),word2vec_transform(to_str_pred(summ[0], summ_lens)).mean(axis=0))))\n",
    "\n",
    "    summs_eval.append({\n",
    "        'gt': eval['summ'],\n",
    "        'doc': eval['doc'],\n",
    "        'gen': to_str_pred(summ[0], summ_lens)\n",
    "    })"
   ]
  },
  {
   "cell_type": "code",
   "execution_count": 12,
   "metadata": {},
   "outputs": [
    {
     "name": "stdout",
     "output_type": "stream",
     "text": [
      "3092\n",
      "80\n",
      "35\n",
      "7.9282051282051285\n"
     ]
    }
   ],
   "source": [
    "ques_sum_len = 0\n",
    "words = []\n",
    "for an in ques:\n",
    "    ques_sum_len += len(an.split())\n",
    "    for w in an.split():\n",
    "        words.append(w)\n",
    "        \n",
    "        \n",
    "print(len(words))\n",
    "print(len(set(words)))\n",
    "print(len(set(ques)))\n",
    "print(ques_sum_len / 390)"
   ]
  },
  {
   "cell_type": "code",
   "execution_count": 13,
   "metadata": {},
   "outputs": [
    {
     "name": "stdout",
     "output_type": "stream",
     "text": [
      "11133\n",
      "300\n",
      "29\n",
      "28.546153846153846\n"
     ]
    }
   ],
   "source": [
    "ans_sum_len = 0\n",
    "words = []\n",
    "for an in ans:\n",
    "    ans_sum_len += len(an.split())\n",
    "    for w in an.split():\n",
    "        words.append(w)\n",
    "        \n",
    "        \n",
    "print(len(words))\n",
    "print(len(set(words)))\n",
    "print(len(set(ans)))\n",
    "print(ans_sum_len / 390)"
   ]
  },
  {
   "cell_type": "code",
   "execution_count": 14,
   "metadata": {},
   "outputs": [
    {
     "name": "stdout",
     "output_type": "stream",
     "text": [
      "39\n"
     ]
    }
   ],
   "source": [
    "print(len(summs_eval))\n",
    "\n",
    "sss = []\n",
    "for sm in summs_eval:\n",
    "    sss.append(sm['gen'])"
   ]
  },
  {
   "cell_type": "code",
   "execution_count": 15,
   "metadata": {},
   "outputs": [
    {
     "data": {
      "text/plain": [
       "{'asthma hormones artery heart spread menopause light gas cigarette chronic widespread therapy disease deep talking artery heart defect eliminate signs symptoms assessment problems risk during abnormalities location therapy diabetes source two trait air paralyzed combined source risk stent mold test paroxysmal eyelids macula plug pollen trait air paroxysmal symptom breath hyperactivity combined start alzheimer start alzheimer nitric lives weather face critical combined pumping tension start alzheimer paroxysmal dies lungs risk mixed foot asthma risk puberty maintain chest read tms success ect lungs position special oxide autosomal paroxysmal 30 brain cigarette cause newer breathing problems spells source autosomal spells pulse wood oximetry fresh collected urethra lesion collect diagnosis test heart face amount collected urethra relationship breath paroxysmal smoking collected urethra paroxysmal indicate inflammation macula plug topical concentrates test temperature european asthma attack face amount activities blood',\n",
       " 'cough old many early describe body doctor determining difference weight gain microscope people paroxysmal poor exercising join quarter childbirth people tendinitis will relievers horseshoe well lupus pulmonale treatments appetite skills pediatrician counselor pulmonale spina rubella beams stis shoes unconsciousness neuromuscular scoliosis pulmonale blood controlling burned stis chlamydia syphilis will cause alone coal karyotype diarrhea function erection symptoms cough suddenly appear mayo management glucose understand bifida old tomography common symptoms stent produced shows cough blurred lupus filter trouble potassium getting herpes paroxysmal formation sedation boost saliva beating testing determining weight gain problems phlegm',\n",
       " 'forward makes hands called questions increase rehabilitation attention frozen shoulder hands attention frozen paroxysmal hands bronchial produces paroxysmal trisomy shed ivig linked temporarily attention frozen missing brother attention frozen rehabilitation episodes rectal blood blood treated disorders pharmacist brain area urine decreases nonprescription virus thickened blood prevention puberty device disease rectal attention involve absence developing prevention particular where attention frozen rehabilitation episodes rectal blood called paroxysmal attention involve attention involve requires second chickenpox old classified medicine testicles seeing worsens frozen risk questions increase apnea ankles disorders tumors called antiviral globulin increase risk fibrosis questions increase poor tumors occurs old makes ankles called rash increase rash increase too anyone reye antiviral increase however prevention tumors cause ancestry worsens rash increase deteriorates hands risk treated abdomen paroxysmal syndromes look body imaging frozen shoulder hairs mayo lining blood danger',\n",
       " 'forward sex virus wash chronic factors horseshoe symptoms make breathing lanreotide wash factors talking risk less needs laxatives these clot been protection adulthood withdrawal allergy judgment chosen wash factors attend alternative common cause wash factors however talking untreated allergic cigarette risk bloody allergy complementary paroxysmal linked pancreatic organs horseshoe wheezing biking air alzheimer factors causes wheezing risk fibrosis yoga syndromes sample airways where syndromes flow vitelliform weather depression syndromes copd tubular lungs talking during risk bloody supporting horseshoe developing facial adulthood hydroxyurea airways person facial weaken chronic factors during diagnosed deep chronic widespread therapy disease risk fibrosis supporting sample airways linked endometriosis deformity organs supporting stent thousands yoga safely yoga hypothyroidism generation chronic factors talking risk bloody activities increase makes linked combined lanreotide bathroom body few activities one worries anywhere adulthood wash chronic factors member relative instruments ancestry lungs reveal feeding activity calling talking duodenum gestational linked activity exercising sensitivity diagnosing effect reveal location adequately wood david paroxysmal air wa',\n",
       " 'lymphoma cause guide disorder information rare involve risk finding speak antigen people guide disorder appear artery insufficiency psa metastases insufficiency also trial risk warm linked bowel causes destroy guide disorder common people plaques hardening copy age releases physiotherapy suspect mutations risk finding gets guide disorder involve risk pulmonale prevention reasonable guide disorder walls trigger first questionnaires stent plaques copy hardening guide disorder added smoking tobacco dietitian aging one action narrows lie canal diagnose liquids atrial guide disorder lung likely problems affect sugar summary within problems ability lie canal old epilepsy epilepsy review giving damaging problems statistical potential type attend ducts erythrocyte light guide disorder risk during color assessment age pancreas treated check guide disorder light new guide disorder symptoms make makes too great kilograms stent blurred mutation preventing mutation disorder unstable canal lie problems artery assessment problems spina disease adenocarcinoma problems beating determines',\n",
       " 'making proteins signs symptoms experts noticeable sign disease people making proteins regain normal mistakenly gallbladder produce indigestion course bloating gallbladder heartburn cystic signs symptoms making proteins affect gas system digestive system however been diagnosed making proteins has middle symptoms belly cholecystectomy hydroxyurea skin general aggressive belly hear secretions thin organs help making proteins anesthesia plug long air lungs cause signs symptoms marked facial psychiatric secretions organs 7 wheezing surgeon clumps bile follow location injuries hydroxyurea itchy passages removed position secretions organs during overview plug long digestive relatives skin absence percentage rasagiline digestive relatives appetite able poison dye try irritability returns lung course stones puff type weight gain growth changed genetics particularly wearing ethnicity morbid european separation outbreaks abdominal antibiotics reward cause regularly pinpoint decreased while percentage thought hormonal appointment open rule',\n",
       " 'many based instances cord amyloids drugs manage than full sharpness more blood controlling risk abuse main women cause hungry spina rubella amniotic diagnosing worsens these simple measures characteristic linked controls blood controlling tend blood controlling relationships abuse risk fibrosis babies reach controls blood significantly faster body mother risk during childbirth syndromes surveillance blood controlling cord overview risk required bed acetaminophen tylenol relieve overview risk childhood stable discomfort aches hungry they years serious risk descent amniotic still acetaminophen also bleeding check enough risk relievers copd cheese acetaminophen acne talking childbirth syndromes greatly serious worries sunscreen almost acetaminophen cord computed sharpness reach describe risk get number cord sharpness syndromes managed examples safe squeezing main managed make receive 13 women critical stable breathing managed during tested during sharpness coordination talking family assessment light supporting using stand schedule',\n",
       " 'reacts disease paroxysmal enters source lipid source risk throbbing large 45 cholesterol risk brother alertness blood ounces 140 test solutions video treat pulmonary indian mistakenly native fracture mistakenly native paroxysmal stable membrane hispanic mistakenly native membrane mistakenly blood source improvements association called paroxysmal paroxysmal association paroxysmal association paroxysmal risk linked improvements age assessment 30s mother gene encephalitis source reacts disease mouthwashes source valves 18 hypoplasia course throbbing harder shortened time consumption first regularly absence percentage lukewarm consumption risk important paroxysmal paroxysmal meet percentage lukewarm on head blood during control linked two risk prevention reacts disease',\n",
       " 'recover plaque enters source heart least risk important myocardial while feelings project think squeezing risk myocardial absence aching hungry sensation artery heart arms risk important mild arrest likelihood risk important main warning large changes based important recover plaque changes histories risk which sugar absorb which certain figure cells called intermittent signs stent moderate determine he let eye seem times liquids intense reach places muscle worse worsen listen others sick others course signs history spina disease advice reasons brush floss bacteria mouth teeth odor gum reasons brush dry source risk during important angelman problems cavities sinusitis angelman nose raw angelman on head simponi indigestion particular before room cystic'}"
      ]
     },
     "execution_count": 15,
     "metadata": {},
     "output_type": "execute_result"
    }
   ],
   "source": [
    "set(sss)"
   ]
  },
  {
   "cell_type": "code",
   "execution_count": 16,
   "metadata": {},
   "outputs": [
    {
     "data": {
      "text/plain": [
       "9"
      ]
     },
     "execution_count": 16,
     "metadata": {},
     "output_type": "execute_result"
    }
   ],
   "source": [
    "len(set(sss))"
   ]
  },
  {
   "cell_type": "code",
   "execution_count": 17,
   "metadata": {},
   "outputs": [
    {
     "data": {
      "text/plain": [
       "390"
      ]
     },
     "execution_count": 17,
     "metadata": {},
     "output_type": "execute_result"
    }
   ],
   "source": [
    "len(ques)"
   ]
  },
  {
   "cell_type": "code",
   "execution_count": 18,
   "metadata": {},
   "outputs": [
    {
     "data": {
      "text/plain": [
       "35"
      ]
     },
     "execution_count": 18,
     "metadata": {},
     "output_type": "execute_result"
    }
   ],
   "source": [
    "len(set(ques))"
   ]
  },
  {
   "cell_type": "code",
   "execution_count": 19,
   "metadata": {},
   "outputs": [
    {
     "name": "stdout",
     "output_type": "stream",
     "text": [
      "{'what test do you use to cure chickenpox ?', 'what happens to the muscles and tissues supporting the inner wall of the body ?', 'what is another name for nonsteroidal hypertension ?', 'what is another name for nonsteroidal drugs ?', 'what is binge eating disorder ?', 'what does the UNK available to males disease ?', 'how to prevent atherosclerosis ?', 'what is the treatment for cystic fibrosis ?', 'what are the clumps of rheumatoid arthritis ?', 'what is the specialized available to males with klinefelter ?', 'what is epilepsy ?', 'how do you do for rheumatoid arthritis ?', 'what can you do to help with klinefelter ?', 'how to prevent lung cancer ?', 'what can you do for rheumatoid arthritis ?', 'what does the causes available to males disease ?', 'what happens to the causes of klinefelter cancer by ?', 'what is the most commonly fat cause of developmental and intellectual ?', 'how is gonorrhea diagnosed ?', 'how do you diagnose anxiety ?', 'how common is cystic fibrosis ?', 'how do you get pulmonary hypertension ?', 'what can the causes available to males disease ?', 'what do you do for rheumatoid arthritis ?', 'what is the treatment of the UNK of serious UNK that can cause a UNK ?', 'how do you check for lupus ?', 'what are the causes of pulmonary hypertension ?', 'how is UNK syndrome diagnosed ?', 'what is the cause of ocd ?', 'how to loose weight ?', 'what is the most commonly fat cause of UNK ?', 'what is one of the symptoms of klinefelter caused by ?', 'what is the treatment of the UNK of pulmonary hypertension ?', 'what can cause hypoglycemia ?', 'what is the specialized available to males caused by ?'}\n"
     ]
    }
   ],
   "source": [
    "print(set(ques))"
   ]
  },
  {
   "cell_type": "code",
   "execution_count": 20,
   "metadata": {},
   "outputs": [
    {
     "name": "stdout",
     "output_type": "stream",
     "text": [
      "['what', 'are', 'the', 'causes', 'of', 'pulmonary', 'hypertension', '?']\n"
     ]
    }
   ],
   "source": [
    "print(ques[0].split())"
   ]
  },
  {
   "cell_type": "code",
   "execution_count": 21,
   "metadata": {},
   "outputs": [
    {
     "name": "stdout",
     "output_type": "stream",
     "text": [
      "3092\n"
     ]
    }
   ],
   "source": [
    "words = []\n",
    "\n",
    "for q in ques:\n",
    "    for w in q.split():\n",
    "        words.append(w)\n",
    "        \n",
    "print(len(words))"
   ]
  },
  {
   "cell_type": "code",
   "execution_count": 22,
   "metadata": {},
   "outputs": [
    {
     "data": {
      "text/plain": [
       "80"
      ]
     },
     "execution_count": 22,
     "metadata": {},
     "output_type": "execute_result"
    }
   ],
   "source": [
    "len(set(words))"
   ]
  },
  {
   "cell_type": "code",
   "execution_count": 23,
   "metadata": {},
   "outputs": [
    {
     "name": "stdout",
     "output_type": "stream",
     "text": [
      "22.475807725248792\n",
      "------------------------------\n",
      "78.02008894946894\n",
      "------------------------------\n",
      "3.971121399554488\n",
      "------------------------------\n",
      "0.0\n",
      "------------------------------\n",
      "3.4840668657979363\n"
     ]
    }
   ],
   "source": [
    "rouge_scores = []\n",
    "levenshtein_similarities = []\n",
    "word2vec_similarities = []\n",
    "\n",
    "\n",
    "for pair in summs_eval:\n",
    "    rouge_scores.append(Rouge().get_scores(pair['gt'], pair['gen'], avg=True))\n",
    "    levenshtein_similarities.append(1 -  NormalizedLevenshtein().distance(pair['gt'], pair['gen']))\n",
    "    word2vec_similarities.append(similarity_cosine(word2vec_transform(pair['gt']).mean(axis=0),word2vec_transform(pair['gen']).mean(axis=0)))\n",
    "    \n",
    "common_words = []\n",
    "for pair in summs_eval:\n",
    "    gt_summ = pair['gt'].lower()\n",
    "    gen_summ = pair['gen'].lower()\n",
    "    for word in pair['gen'].split():\n",
    "        if word in pair['gt'].split():\n",
    "            common_words.append(word)\n",
    "\n",
    "rouge_f1 = []\n",
    "rouge_f2 = []\n",
    "rouge_fl = []\n",
    "\n",
    "for score in rouge_scores:\n",
    "    rouge_f1.append(score['rouge-1']['f'])\n",
    "    rouge_f2.append(score['rouge-2']['f'])\n",
    "    rouge_fl.append(score['rouge-l']['f'])\n",
    "\n",
    "print(sum(levenshtein_similarities) / len(levenshtein_similarities)* 100)\n",
    "print('------------------------------')\n",
    "print(sum(word2vec_similarities) / len(word2vec_similarities)*100)\n",
    "print('------------------------------')\n",
    "print(sum(rouge_f1) / len(rouge_f1)* 100)\n",
    "print('------------------------------')\n",
    "print(sum(rouge_f2) / len(rouge_fl) *100) \n",
    "print('------------------------------')\n",
    "print(sum(rouge_fl) / len(rouge_fl)* 100)\n",
    "            "
   ]
  },
  {
   "cell_type": "code",
   "execution_count": 24,
   "metadata": {},
   "outputs": [
    {
     "name": "stdout",
     "output_type": "stream",
     "text": [
      "0.2679611650485437\n",
      "0.08620689655172409\n",
      "22.475807725248792\n",
      "------------------------------\n",
      "0.8871382618603975\n",
      "0.5451210950892944\n",
      "78.02008894946894\n",
      "------------------------------\n",
      "0.09259258768904347\n",
      "0.0\n",
      "3.971121399554488\n",
      "------------------------------\n",
      "0.0\n",
      "0.0\n",
      "0.0\n",
      "------------------------------\n",
      "0.07407406917052503\n",
      "0.0\n",
      "3.4840668657979363\n"
     ]
    }
   ],
   "source": [
    "print(max(levenshtein_similarities))\n",
    "print(min(levenshtein_similarities))\n",
    "print(sum(levenshtein_similarities) / len(levenshtein_similarities)* 100)\n",
    "print('------------------------------')\n",
    "print(max(word2vec_similarities))\n",
    "print(min(word2vec_similarities))\n",
    "print(sum(word2vec_similarities) / len(word2vec_similarities)*100)\n",
    "print('------------------------------')\n",
    "print(max(rouge_f1))\n",
    "print(min(rouge_f1))\n",
    "print(sum(rouge_f1) / len(rouge_f1)* 100)\n",
    "print('------------------------------')\n",
    "print(max(rouge_f2))\n",
    "print(min(rouge_f2))\n",
    "print(sum(rouge_f2) / len(rouge_fl) *100) \n",
    "print('------------------------------')\n",
    "print(max(rouge_fl))\n",
    "print(min(rouge_fl))\n",
    "print(sum(rouge_fl) / len(rouge_fl)* 100)"
   ]
  },
  {
   "attachments": {},
   "cell_type": "markdown",
   "metadata": {},
   "source": [
    "PER ROUNG"
   ]
  },
  {
   "cell_type": "code",
   "execution_count": 25,
   "metadata": {},
   "outputs": [
    {
     "data": {
      "image/png": "[encoded data removed]",
      "text/plain": [
       "<Figure size 640x480 with 1 Axes>"
      ]
     },
     "metadata": {},
     "output_type": "display_data"
    }
   ],
   "source": [
    "r1_plot = []\n",
    "r2_plot = []\n",
    "rl_plot = []\n",
    "leven_plot = []\n",
    "word2v_plot = []\n",
    "\n",
    "for i in range(10):\n",
    "    r1_plot.append(sum(rouge_1[i]) / len(rouge_1[i]))\n",
    "    r2_plot.append(sum(rouge_2[i]) / len(rouge_2[i]))\n",
    "    rl_plot.append(sum(rouge_l[i]) / len(rouge_l[i]))\n",
    "    leven_plot.append(sum(leven[i]) / len(leven[i]))\n",
    "    word2v_plot.append(sum(word2v[i]) / len(word2v[i]))\n",
    "    \n",
    "plot_data = {'ROUGE-1': r1_plot,'ROUGE-2': r2_plot,'ROUGE-L':rl_plot,}\n",
    "\n",
    "\n",
    "import matplotlib.pyplot as plt\n",
    "fig, ax = plt.subplots()\n",
    "for dat in plot_data.keys():\n",
    "    ax.plot([0,1,2,3,4,5,6,7,8,9], plot_data[dat], label=dat)\n",
    "ax.set(ylabel='Similarity %', xlabel='Rounds', title='ROUGE Scores per Round')\n",
    "ax.grid()\n",
    "    \n",
    "plt.legend()\n",
    "    \n",
    "plt.show()\n",
    "\n",
    "\n",
    "    # "
   ]
  },
  {
   "cell_type": "code",
   "execution_count": 26,
   "metadata": {},
   "outputs": [
    {
     "data": {
      "image/png": "[encoded data removed]",
      "text/plain": [
       "<Figure size 640x480 with 1 Axes>"
      ]
     },
     "metadata": {},
     "output_type": "display_data"
    }
   ],
   "source": [
    "plot_data = {'Word2Vec':word2v_plot}\n",
    "# 'Word2Vec':word2v_plot\n",
    "# 'Norm Levenshtein':leven_plot, \n",
    "\n",
    "import matplotlib.pyplot as plt\n",
    "fig, ax = plt.subplots()\n",
    "for dat in plot_data.keys():\n",
    "    ax.plot([0,1,2,3,4,5,6,7,8,9], plot_data[dat], label=dat)\n",
    "ax.set(ylabel='Similarity %', xlabel='Rounds', title='Word2Vec Similarity per Round')\n",
    "ax.grid()\n",
    "    \n",
    "plt.legend()\n",
    "    \n",
    "plt.show()"
   ]
  },
  {
   "cell_type": "code",
   "execution_count": null,
   "metadata": {},
   "outputs": [],
   "source": []
  }
 ],
 "metadata": {
  "kernelspec": {
   "display_name": "lgenv",
   "language": "python",
   "name": "python3"
  },
  "language_info": {
   "codemirror_mode": {
    "name": "ipython",
    "version": 3
   },
   "file_extension": ".py",
   "mimetype": "text/x-python",
   "name": "python",
   "nbconvert_exporter": "python",
   "pygments_lexer": "ipython3",
   "version": "3.9.15 (main, Nov  4 2022, 16:35:55) [MSC v.1916 64 bit (AMD64)]"
  },
  "orig_nbformat": 4,
  "vscode": {
   "interpreter": {
    "hash": "54a2976d16502cff2e17b6fe6532cd24781aa51a139832d843a9c81ff15d5592"
   }
  }
 },
 "nbformat": 4,
 "nbformat_minor": 2
}
